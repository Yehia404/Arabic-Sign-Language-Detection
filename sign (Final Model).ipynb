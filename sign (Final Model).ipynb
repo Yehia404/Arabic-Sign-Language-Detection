{
 "cells": [
  {
   "cell_type": "markdown",
   "metadata": {
    "id": "_dzyBHmfmJAG"
   },
   "source": [
    "# 1. Import Libraries"
   ]
  },
  {
   "cell_type": "code",
   "execution_count": 79,
   "metadata": {
    "colab": {
     "base_uri": "https://localhost:8080/"
    },
    "id": "IAVS1OzWT1uZ",
    "outputId": "2ef1e7ed-1250-4411-cae9-f1b71dd35b78"
   },
   "outputs": [],
   "source": [
    "import cv2\n",
    "import numpy as np\n",
    "import os\n",
    "from matplotlib import pyplot as plt\n",
    "import time\n",
    "!pip install mediapipe\n",
    "import mediapipe as mp\n",
    "import shutil\n",
    "from tqdm import tqdm"
   ]
  },
  {
   "cell_type": "markdown",
   "metadata": {
    "id": "AXD-4rWmnTaH"
   },
   "source": [
    "# Import Videos Dataset"
   ]
  },
  {
   "cell_type": "markdown",
   "metadata": {
    "id": "RsGscGOZS76r"
   },
   "source": [
    "#2. Convert videos (dataset) into keypoints frames"
   ]
  },
  {
   "cell_type": "code",
   "execution_count": 3,
   "metadata": {
    "id": "xpkXyywJS7UA"
   },
   "outputs": [],
   "source": [
    "mp_holistic = mp.solutions.holistic # Holistic model\n",
    "mp_drawing = mp.solutions.drawing_utils # Drawing utilities"
   ]
  },
  {
   "cell_type": "code",
   "execution_count": null,
   "metadata": {
    "id": "jHXkelnjS7Xu"
   },
   "outputs": [],
   "source": [
    "os.mkdir('MP_Data')\n",
    "DATA_PATH = os.path.join('MP_Data') \n",
    "\n",
    "# Actions that we try to detect\n",
    "actions = np.array([name for name in os.listdir(\"dataset\")])\n",
    "actions = np.sort(actions)\n",
    "\n",
    "# Number of frames per any single video\n",
    "sequence_length = 40"
   ]
  },
  {
   "cell_type": "code",
   "execution_count": null,
   "metadata": {
    "id": "9cqtccX1S7dA"
   },
   "outputs": [],
   "source": [
    "#create folders to hold dataset of np arrays; subfolder for each class/word\n",
    "for action in actions: \n",
    "    os.mkdir('MP_Data/'+action)\n",
    "    \n",
    "    file_names = os.listdir(\"dataset/\"+action)\n",
    "    file_names = [int(x[:-4]) for x in file_names]\n",
    "    num_of_vids = max(file_names)\n",
    "    for i in range(0,num_of_vids+1):\n",
    "        os.mkdir('MP_Data/'+action+\"/\"+str(i))"
   ]
  },
  {
   "cell_type": "code",
   "execution_count": null,
   "metadata": {
    "colab": {
     "base_uri": "https://localhost:8080/"
    },
    "id": "ySbwnunQT_gA",
    "outputId": "86a9f379-476a-4bfa-de68-5bda2c9b6bdd"
   },
   "outputs": [
    {
     "name": "stderr",
     "output_type": "stream",
     "text": [
      "100%|███████████████████████████████████████████████████████████████████████████████| 52/52 [3:43:22<00:00, 257.75s/it]\n"
     ]
    }
   ],
   "source": [
    "# Create detections of pose and hands in npy format\n",
    "\n",
    "def mediapipe_detection(image, model):\n",
    "    image = cv2.cvtColor(image, cv2.COLOR_BGR2RGB) # COLOR CONVERSION BGR 2 RGB\n",
    "    image.flags.writeable = False                  # Image is no longer writeable\n",
    "    results = model.process(image)                 # Make prediction\n",
    "    image.flags.writeable = True                   # Image is now writeable \n",
    "    image = cv2.cvtColor(image, cv2.COLOR_RGB2BGR) # COLOR COVERSION RGB 2 BGR\n",
    "    return image, results\n",
    "\n",
    "def extract_keypoints(results):\n",
    "    pose = np.array([[res.x, res.y, res.z, res.visibility] for res in results.pose_landmarks.landmark]).flatten() if results.pose_landmarks else np.zeros(33*4)\n",
    "    lh = np.array([[res.x, res.y, res.z] for res in results.left_hand_landmarks.landmark]).flatten() if results.left_hand_landmarks else np.zeros(21*3)\n",
    "    rh = np.array([[res.x, res.y, res.z] for res in results.right_hand_landmarks.landmark]).flatten() if results.right_hand_landmarks else np.zeros(21*3)\n",
    "    return np.concatenate([pose,lh, rh])\n",
    "\n",
    "# Set mediapipe model \n",
    "with mp_holistic.Holistic(min_detection_confidence=0.5, min_tracking_confidence=0.5) as holistic:\n",
    "    # Loop through actions\n",
    "    for action in tqdm(actions):\n",
    "        \n",
    "        file_names = os.listdir(\"dataset/\"+action)\n",
    "        file_names = [int(x[:-4]) for x in file_names]\n",
    "        num_of_vids = max(file_names)\n",
    "        \n",
    "        # Loop through sequences aka videos\n",
    "        for sequence in range(0, num_of_vids+1):\n",
    "            \n",
    "            vidcap = cv2.VideoCapture('dataset/{}/{}.mp4'.format(action,sequence))\n",
    "            success,frame = vidcap.read()\n",
    "            count = -1\n",
    "            # Loop through each frame\n",
    "            while success:  \n",
    "                count += 1\n",
    "\n",
    "                # Make detections\n",
    "                image, results = mediapipe_detection(frame, holistic)\n",
    "                \n",
    "                # Export keypoints\n",
    "                keypoints = extract_keypoints(results)\n",
    "                npy_path = os.path.join(DATA_PATH, action, str(sequence), str(count))\n",
    "                np.save(npy_path, keypoints)\n",
    "                success,frame = vidcap.read()"
   ]
  },
  {
   "cell_type": "markdown",
   "metadata": {
    "id": "OAzNWNKhmHkI"
   },
   "source": []
  },
  {
   "cell_type": "markdown",
   "metadata": {
    "id": "ShAjvSdVVpGj"
   },
   "source": [
    "#3. Filter videos to select 20 frame out of 40\n",
    "using action detection algorithm"
   ]
  },
  {
   "cell_type": "code",
   "execution_count": null,
   "metadata": {
    "id": "OQTyt-iJVxkK"
   },
   "outputs": [],
   "source": [
    "#SETUP FOLDERS FOR FILTERED DATA\n",
    "os.mkdir('MP_Data_FILTERED')\n",
    "DATA_PATH = os.path.join('MP_Data_FILTERED') \n",
    "actions = np.array([name for name in os.listdir(\"dataset\")])\n",
    "actions = np.sort(actions)\n",
    "sequence_length = 20\n",
    "number_of_frames = 20"
   ]
  },
  {
   "cell_type": "code",
   "execution_count": null,
   "metadata": {
    "id": "d5ijO7CxVvIP"
   },
   "outputs": [],
   "source": [
    "#create folders to hold dataset of np arrays\n",
    "for action in actions: \n",
    "    os.mkdir('MP_Data_FILTERED/'+action)\n",
    "    file_names = os.listdir(\"dataset/\"+action)\n",
    "    file_names = [int(x[:-4]) for x in file_names]\n",
    "    num_of_vids = max(file_names)\n",
    "    for i in range(0,num_of_vids+1):\n",
    "        os.mkdir('MP_Data_FILTERED/'+action+\"/\"+str(i))"
   ]
  },
  {
   "cell_type": "code",
   "execution_count": null,
   "metadata": {
    "id": "hkjD_7_rVu_x",
    "outputId": "51664e4f-1cb9-45f8-984d-edd2b2ff160f"
   },
   "outputs": [
    {
     "name": "stderr",
     "output_type": "stream",
     "text": [
      "100%|██████████████████████████████████████████████████████████████████████████████████| 52/52 [28:21<00:00, 32.72s/it]\n"
     ]
    }
   ],
   "source": [
    "# DO THE PROCESS\n",
    "\n",
    "# Loop through actions (words)\n",
    "for action in tqdm(actions):\n",
    "    file_names = os.listdir(\"dataset/\"+action)\n",
    "    file_names = [int(x[:-4]) for x in file_names]\n",
    "    num_of_vids = max(file_names)\n",
    "    # Loop through sequences (videos)\n",
    "    for sequence in range(0, num_of_vids+1):\n",
    "        vidcap = cv2.VideoCapture('dataset/{}/{}.mp4'.format(action,sequence))\n",
    "        success,frameTemp = vidcap.read() #FRAME IS IMAGE\n",
    "        success,frame = vidcap.read() \n",
    "        count = -1\n",
    "        actionMagnitude = []\n",
    "        # Loop through each frame in a single video, to find the action magnitude over each frame in a video\n",
    "        while success:\n",
    "            count += 1\n",
    "            gray = cv2.cvtColor(frame, cv2.COLOR_BGR2GRAY)\n",
    "            gray = cv2.GaussianBlur(gray, (21, 21), 0)\n",
    "            static_back = cv2.cvtColor(frameTemp, cv2.COLOR_BGR2GRAY)\n",
    "            static_back = cv2.GaussianBlur(static_back, (21, 21), 0)\n",
    "            diff_frame = cv2.absdiff(static_back, gray)\n",
    "            actionMagnitude.append(diff_frame.sum())\n",
    "            frameTemp = np.copy(frame)\n",
    "            success,frame = vidcap.read() #FRAME IS IMAGE\n",
    "\n",
    "        #find best n frames to extract************************************\n",
    "        maxIndex = 0 #best index to start collecting max(n = 20) frame. ex: max=5 means best is to collect frames[5:25]\n",
    "        maxMagnitude = 0 #for a given number_of_frames\n",
    "        for i in range(0,len(actionMagnitude)-number_of_frames):\n",
    "            if sum(actionMagnitude[i:i+number_of_frames]) > maxMagnitude:\n",
    "                maxIndex = i\n",
    "                maxMagnitude = sum(actionMagnitude[i:i+number_of_frames])\n",
    "\n",
    "        #Copy selected frames' keypoints into another location************\n",
    "        for i in range(maxIndex,maxIndex+number_of_frames):\n",
    "            source = \"MP_Data/{}/{}/{}.npy\".format(action,sequence,i)\n",
    "            destination = \"MP_Data_FILTERED/{}/{}/{}.npy\".format(action,sequence,i-maxIndex) #renamed to be all starting from 0\n",
    "            shutil.copyfile(source, destination)"
   ]
  },
  {
   "cell_type": "markdown",
   "metadata": {
    "id": "ey89nvfMW70I"
   },
   "source": [
    "# 4. Load data into Model"
   ]
  },
  {
   "cell_type": "code",
   "execution_count": 80,
   "metadata": {
    "id": "X1rB2pnmW862"
   },
   "outputs": [],
   "source": [
    "actions = np.array([name for name in os.listdir(\"MP_Data_FILTERED\")])\n",
    "actions = np.sort(actions)\n",
    "sequence_length = 20\n",
    "label_map = {label:num for num, label in enumerate(actions)}\n",
    "DATA_PATH = os.path.join('MP_Data_FILTERED') "
   ]
  },
  {
   "cell_type": "code",
   "execution_count": 5,
   "metadata": {
    "colab": {
     "base_uri": "https://localhost:8080/"
    },
    "id": "aFwS0u3-W84X",
    "outputId": "01ef5677-1e0a-4230-e1d7-d795d679321b"
   },
   "outputs": [
    {
     "name": "stdout",
     "output_type": "stream",
     "text": [
      "Data loaded!\n",
      "data size:  (3426, 20, 258)\n",
      "labels size:  (3426,)\n"
     ]
    }
   ],
   "source": [
    "sequences, labels = [], []\n",
    "for action in actions:\n",
    "    for sequence in np.array(os.listdir(os.path.join(DATA_PATH, action))).astype(int):\n",
    "        window = []\n",
    "        for frame_num in range(sequence_length):\n",
    "            res = np.load(os.path.join(DATA_PATH, action, str(sequence), \"{}.npy\".format(frame_num)))\n",
    "            window.append(res)\n",
    "        sequences.append(window)\n",
    "        labels.append(label_map[action])\n",
    "print('Data loaded!\\ndata size: ',np.array(sequences).shape)\n",
    "print('labels size: ',np.array(labels).shape)\n"
   ]
  },
  {
   "cell_type": "code",
   "execution_count": 6,
   "metadata": {},
   "outputs": [
    {
     "data": {
      "text/plain": [
       "(258,)"
      ]
     },
     "execution_count": 6,
     "metadata": {},
     "output_type": "execute_result"
    }
   ],
   "source": [
    "res.shape"
   ]
  },
  {
   "cell_type": "code",
   "execution_count": 72,
   "metadata": {
    "colab": {
     "base_uri": "https://localhost:8080/"
    },
    "id": "4NiC9KdpW82Q",
    "outputId": "a3dbf57b-8c07-430e-9794-09dc67d8163a"
   },
   "outputs": [
    {
     "name": "stdout",
     "output_type": "stream",
     "text": [
      "Test       :  (686, 52)\n",
      "Validation :  (617, 52)\n",
      "Train      :  (5549, 52)\n"
     ]
    }
   ],
   "source": [
    "from sklearn.model_selection import train_test_split\n",
    "from tensorflow.keras.utils import to_categorical\n",
    "\n",
    "X = np.array(sequences)\n",
    "y = to_categorical(labels).astype(int)\n",
    "\n",
    "#DO FLIP HORIZONTAL ON ALL (DATA AUGMENTATION)\n",
    "X = np.concatenate([X,X*-1])\n",
    "y = np.concatenate([y,y])\n",
    "#*********************************************\n",
    "\n",
    "X_train, X_test, y_train, y_test = train_test_split(X, y, test_size=0.10, random_state=42, shuffle=True)\n",
    "X_train, X_val, y_train, y_val = train_test_split(X_train, y_train, test_size=0.10, random_state=42, shuffle=True)\n",
    "\n",
    "print('Test       : ',y_test.shape)\n",
    "print('Validation : ',y_val.shape)\n",
    "print('Train      : ',y_train.shape)"
   ]
  },
  {
   "cell_type": "markdown",
   "metadata": {
    "id": "KoGyQChiXH3d"
   },
   "source": [
    "# 5. Modeling"
   ]
  },
  {
   "cell_type": "code",
   "execution_count": 81,
   "metadata": {
    "colab": {
     "base_uri": "https://localhost:8080/"
    },
    "id": "GcUYuoIBW8xk",
    "outputId": "91381d8f-22d8-4890-f80b-5d1233d1938c"
   },
   "outputs": [],
   "source": [
    "from tensorflow.keras.models import Sequential\n",
    "from tensorflow.keras.layers import LSTM, Dense, Dropout, BatchNormalization, Bidirectional\n",
    "from tensorflow.keras.callbacks import TensorBoard, ModelCheckpoint, EarlyStopping, ReduceLROnPlateau\n",
    "\n",
    "log_dir = os.path.join('Logs')\n",
    "tb_callback = TensorBoard(log_dir=log_dir)\n",
    "\n",
    "model = Sequential()\n",
    "\n",
    "model.add(Bidirectional(LSTM(128, return_sequences=True, activation='tanh', input_shape=(np.array(sequences).shape[1],np.array(sequences).shape[2]))))\n",
    "model.add(Dropout(0.5))\n",
    "model.add(BatchNormalization())\n",
    "model.add(Bidirectional(LSTM(128, return_sequences=True, activation='tanh')))\n",
    "model.add(Dropout(0.5))\n",
    "model.add(BatchNormalization())\n",
    "model.add(Bidirectional(LSTM(256, return_sequences=False, activation='tanh')))\n",
    "model.add(Dropout(0.5))\n",
    "model.add(BatchNormalization())\n",
    "model.add(Dense(128, activation='tanh'))\n",
    "model.add(Dropout(0.5))\n",
    "model.add(BatchNormalization())\n",
    "model.add(Dense(actions.shape[0], activation='softmax'))\n",
    "\n",
    "model.compile(optimizer='Adam',  loss='categorical_crossentropy', metrics=['categorical_accuracy'])\n",
    "\n",
    "checkpoint = ModelCheckpoint('weights.hdf5',monitor='val_categorical_accuracy',save_best_only=True)\n",
    "reduce_lr = ReduceLROnPlateau(monitor='val_categorical_accuracy', patience=60)\n",
    "earlystoppingmonitor =  EarlyStopping(monitor='val_categorical_accuracy',patience=130)\n",
    "\n",
    "training = model.fit(X_train, y_train,  batch_size=512, epochs=600,validation_data=(X_val,y_val),\n",
    "         callbacks=[checkpoint,earlystoppingmonitor,reduce_lr,tb_callback])"
   ]
  },
  {
   "cell_type": "code",
   "execution_count": 82,
   "metadata": {},
   "outputs": [],
   "source": [
    "from tensorflow.keras.models import load_model\n",
    "model = load_model('final.keras')"
   ]
  },
  {
   "cell_type": "code",
   "execution_count": 83,
   "metadata": {
    "colab": {
     "base_uri": "https://localhost:8080/"
    },
    "id": "TqO8PImKW8Mz",
    "outputId": "8dde6f34-6d3c-4711-cc17-ce9c7b523770"
   },
   "outputs": [
    {
     "name": "stdout",
     "output_type": "stream",
     "text": [
      "Model: \"sequential\"\n",
      "_________________________________________________________________\n",
      " Layer (type)                Output Shape              Param #   \n",
      "=================================================================\n",
      " bidirectional (Bidirection  (None, 20, 256)           396288    \n",
      " al)                                                             \n",
      "                                                                 \n",
      " dropout (Dropout)           (None, 20, 256)           0         \n",
      "                                                                 \n",
      " batch_normalization (Batch  (None, 20, 256)           1024      \n",
      " Normalization)                                                  \n",
      "                                                                 \n",
      " bidirectional_1 (Bidirecti  (None, 20, 256)           394240    \n",
      " onal)                                                           \n",
      "                                                                 \n",
      " dropout_1 (Dropout)         (None, 20, 256)           0         \n",
      "                                                                 \n",
      " batch_normalization_1 (Bat  (None, 20, 256)           1024      \n",
      " chNormalization)                                                \n",
      "                                                                 \n",
      " bidirectional_2 (Bidirecti  (None, 512)               1050624   \n",
      " onal)                                                           \n",
      "                                                                 \n",
      " dropout_2 (Dropout)         (None, 512)               0         \n",
      "                                                                 \n",
      " batch_normalization_2 (Bat  (None, 512)               2048      \n",
      " chNormalization)                                                \n",
      "                                                                 \n",
      " dense (Dense)               (None, 128)               65664     \n",
      "                                                                 \n",
      " dropout_3 (Dropout)         (None, 128)               0         \n",
      "                                                                 \n",
      " batch_normalization_3 (Bat  (None, 128)               512       \n",
      " chNormalization)                                                \n",
      "                                                                 \n",
      " dense_1 (Dense)             (None, 52)                6708      \n",
      "                                                                 \n",
      "=================================================================\n",
      "Total params: 1918132 (7.32 MB)\n",
      "Trainable params: 1915828 (7.31 MB)\n",
      "Non-trainable params: 2304 (9.00 KB)\n",
      "_________________________________________________________________\n"
     ]
    }
   ],
   "source": [
    "model.summary()"
   ]
  },
  {
   "cell_type": "markdown",
   "metadata": {
    "id": "HzH7xvFEzyjB"
   },
   "source": [
    "# 6. Testing and Evaluating"
   ]
  },
  {
   "cell_type": "markdown",
   "metadata": {},
   "source": [
    "## 6.1 Using Cross Validation (Using Accuracy)"
   ]
  },
  {
   "cell_type": "code",
   "execution_count": 88,
   "metadata": {
    "colab": {
     "base_uri": "https://localhost:8080/"
    },
    "id": "bItokc1Rh3EB",
    "outputId": "acb891dc-ac2f-4b31-bf56-dac3c75cc203"
   },
   "outputs": [
    {
     "name": "stdout",
     "output_type": "stream",
     "text": [
      "22/22 [==============================] - 3s 47ms/step\n",
      "Testing Accuracy (Checkpoint):  0.9475218658892128\n",
      "22/22 [==============================] - 1s 49ms/step\n",
      "Testing Accuracy:  0.9460641399416909\n"
     ]
    }
   ],
   "source": [
    "from tensorflow.keras.models import load_model\n",
    "from sklearn.metrics import  accuracy_score\n",
    "\n",
    "#using the model checkpoint\n",
    "best = load_model('weights.hdf5')\n",
    "yhat = best.predict(X_test)\n",
    "ytrue = np.argmax(y_test, axis=1).tolist()\n",
    "yhat = np.argmax(yhat, axis=1).tolist()\n",
    "print(\"Testing Accuracy (Checkpoint): \",accuracy_score(ytrue, yhat))\n",
    "\n",
    "#using the full trained model (till last executed epoch)\n",
    "yhat = model.predict(X_test)\n",
    "ytrue = np.argmax(y_test, axis=1).tolist()\n",
    "yhat = np.argmax(yhat, axis=1).tolist()\n",
    "print(\"Testing Accuracy: \",accuracy_score(ytrue, yhat))"
   ]
  },
  {
   "cell_type": "code",
   "execution_count": 89,
   "metadata": {
    "colab": {
     "base_uri": "https://localhost:8080/"
    },
    "id": "YNnSEAuD5aog",
    "outputId": "10a72f40-1060-4f94-ba09-37c808006d70"
   },
   "outputs": [
    {
     "name": "stdout",
     "output_type": "stream",
     "text": [
      "20/20 [==============================] - 4s 48ms/step\n",
      "Val Accuracy (Checkpoint):  0.940032414910859\n",
      "174/174 [==============================] - 9s 51ms/step\n",
      "Train Accuracy (Checkpoint):  1.0\n"
     ]
    }
   ],
   "source": [
    "#using the model checkpoint\n",
    "best = load_model('weights.hdf5')\n",
    "yhat = best.predict(X_val)\n",
    "ytrue = np.argmax(y_val, axis=1).tolist()\n",
    "yhat = np.argmax(yhat, axis=1).tolist()\n",
    "print(\"Val Accuracy (Checkpoint): \",accuracy_score(ytrue, yhat))\n",
    "\n",
    "yhat = best.predict(X_train)\n",
    "ytrue = np.argmax(y_train, axis=1).tolist()\n",
    "yhat = np.argmax(yhat, axis=1).tolist()\n",
    "print(\"Train Accuracy (Checkpoint): \",accuracy_score(ytrue, yhat))"
   ]
  },
  {
   "cell_type": "markdown",
   "metadata": {},
   "source": [
    "## 6.2 Using Confusion Matrix"
   ]
  },
  {
   "cell_type": "code",
   "execution_count": 13,
   "metadata": {},
   "outputs": [
    {
     "name": "stdout",
     "output_type": "stream",
     "text": [
      "22/22 [==============================] - 1s 34ms/step\n"
     ]
    },
    {
     "data": {
      "image/png": "[encoded data removed]",
      "text/plain": [
       "<Figure size 1200x1000 with 1 Axes>"
      ]
     },
     "metadata": {},
     "output_type": "display_data"
    }
   ],
   "source": [
    "from sklearn.metrics import confusion_matrix\n",
    "import seaborn as sns\n",
    "\n",
    "# Confusion matrix calculation\n",
    "y_pred = best.predict(X_test)\n",
    "y_pred = np.argmax(y_pred, axis=1)\n",
    "y_true = np.argmax(y_test, axis=1)\n",
    "\n",
    "cm = confusion_matrix(y_true, y_pred)\n",
    "\n",
    "# Plotting confusion matrix\n",
    "plt.figure(figsize=(12, 10))\n",
    "sns.heatmap(cm, annot=True, fmt='d', cmap='Blues', cbar=False,\n",
    "            xticklabels=actions, yticklabels=actions)\n",
    "plt.title('Confusion Matrix')\n",
    "plt.xlabel('Predicted')\n",
    "plt.ylabel('True')\n",
    "plt.xticks(rotation=45, ha='right')\n",
    "plt.yticks(rotation=0)\n",
    "plt.tight_layout()\n",
    "plt.show()\n"
   ]
  },
  {
   "cell_type": "markdown",
   "metadata": {},
   "source": [
    "## 6.3 Using Other Metrics (Precision, Recall, F1 Score)"
   ]
  },
  {
   "cell_type": "code",
   "execution_count": 14,
   "metadata": {},
   "outputs": [
    {
     "name": "stdout",
     "output_type": "stream",
     "text": [
      "Precision: 0.9518898694945075\n",
      "Recall: 0.9501706956316684\n",
      "F1-score: 0.9487602247445689\n"
     ]
    }
   ],
   "source": [
    "from sklearn.metrics import precision_score, recall_score, f1_score\n",
    "\n",
    "# Calculate metrics\n",
    "precision = precision_score(y_true, y_pred, average='macro')\n",
    "recall = recall_score(y_true, y_pred, average='macro')\n",
    "f1 = f1_score(y_true, y_pred, average='macro')\n",
    "\n",
    "print(\"Precision:\", precision)\n",
    "print(\"Recall:\", recall)\n",
    "print(\"F1-score:\", f1)\n"
   ]
  },
  {
   "cell_type": "markdown",
   "metadata": {
    "id": "JkEVmG9Q8wD-"
   },
   "source": [
    "# 7. Save Model"
   ]
  },
  {
   "cell_type": "code",
   "execution_count": 28,
   "metadata": {
    "id": "4Ridu0_5pCrq"
   },
   "outputs": [],
   "source": [
    "model.save('final.keras')"
   ]
  },
  {
   "cell_type": "markdown",
   "metadata": {},
   "source": [
    "# 8.Testing in Real time"
   ]
  },
  {
   "cell_type": "code",
   "execution_count": 76,
   "metadata": {},
   "outputs": [],
   "source": [
    "mp_holistic = mp.solutions.holistic # Holistic model\n",
    "mp_drawing = mp.solutions.drawing_utils # Drawing utilities"
   ]
  },
  {
   "cell_type": "code",
   "execution_count": 64,
   "metadata": {},
   "outputs": [],
   "source": [
    "def mediapipe_detection(image, model):\n",
    "    image = cv2.cvtColor(image, cv2.COLOR_BGR2RGB) # COLOR CONVERSION BGR 2 RGB\n",
    "    image.flags.writeable = False                  # Image is no longer writeable\n",
    "    results = model.process(image)                 # Make prediction\n",
    "    image.flags.writeable = True                   # Image is now writeable \n",
    "    image = cv2.cvtColor(image, cv2.COLOR_RGB2BGR) # COLOR COVERSION RGB 2 BGR\n",
    "    return image, results"
   ]
  },
  {
   "cell_type": "code",
   "execution_count": 65,
   "metadata": {},
   "outputs": [],
   "source": [
    "def draw_landmarks(image, results):\n",
    "    mp_drawing.draw_landmarks(image, results.pose_landmarks, mp_holistic.POSE_CONNECTIONS) # Draw pose connections\n",
    "    mp_drawing.draw_landmarks(image, results.left_hand_landmarks, mp_holistic.HAND_CONNECTIONS) # Draw left hand connections\n",
    "    mp_drawing.draw_landmarks(image, results.right_hand_landmarks, mp_holistic.HAND_CONNECTIONS) # Draw right hand connections"
   ]
  },
  {
   "cell_type": "code",
   "execution_count": 66,
   "metadata": {},
   "outputs": [],
   "source": [
    "def draw_styled_landmarks(image, results):\n",
    "    # Draw pose connections\n",
    "    mp_drawing.draw_landmarks(image, results.pose_landmarks, mp_holistic.POSE_CONNECTIONS,\n",
    "                             mp_drawing.DrawingSpec(color=(80,22,10), thickness=2, circle_radius=4), \n",
    "                             mp_drawing.DrawingSpec(color=(80,44,121), thickness=2, circle_radius=2)\n",
    "                             ) \n",
    "    # Draw left hand connections\n",
    "    mp_drawing.draw_landmarks(image, results.left_hand_landmarks, mp_holistic.HAND_CONNECTIONS, \n",
    "                             mp_drawing.DrawingSpec(color=(121,22,76), thickness=2, circle_radius=4), \n",
    "                             mp_drawing.DrawingSpec(color=(121,44,250), thickness=2, circle_radius=2)\n",
    "                             ) \n",
    "    # Draw right hand connections  \n",
    "    mp_drawing.draw_landmarks(image, results.right_hand_landmarks, mp_holistic.HAND_CONNECTIONS, \n",
    "                             mp_drawing.DrawingSpec(color=(245,117,66), thickness=2, circle_radius=4), \n",
    "                             mp_drawing.DrawingSpec(color=(245,66,230), thickness=2, circle_radius=2)\n",
    "                             ) "
   ]
  },
  {
   "cell_type": "code",
   "execution_count": 67,
   "metadata": {},
   "outputs": [],
   "source": [
    "def extract_keypoints(results):\n",
    "    pose = np.array([[res.x, res.y, res.z, res.visibility] for res in results.pose_landmarks.landmark]).flatten() if results.pose_landmarks else np.zeros(33*4)\n",
    "    lh = np.array([[res.x, res.y, res.z] for res in results.left_hand_landmarks.landmark]).flatten() if results.left_hand_landmarks else np.zeros(21*3)\n",
    "    rh = np.array([[res.x, res.y, res.z] for res in results.right_hand_landmarks.landmark]).flatten() if results.right_hand_landmarks else np.zeros(21*3)\n",
    "    return np.concatenate([pose, lh, rh])"
   ]
  },
  {
   "cell_type": "code",
   "execution_count": 42,
   "metadata": {},
   "outputs": [],
   "source": [
    "from PIL import ImageFont, ImageDraw, Image\n",
    "import arabic_reshaper\n",
    "from bidi.algorithm import get_display"
   ]
  },
  {
   "cell_type": "code",
   "execution_count": 87,
   "metadata": {},
   "outputs": [
    {
     "name": "stdout",
     "output_type": "stream",
     "text": [
      "<class 'mediapipe.python.solution_base.SolutionOutputs'>\n",
      "(258,)\n",
      "<class 'mediapipe.python.solution_base.SolutionOutputs'>\n",
      "(258,)\n",
      "<class 'mediapipe.python.solution_base.SolutionOutputs'>\n",
      "(258,)\n",
      "<class 'mediapipe.python.solution_base.SolutionOutputs'>\n",
      "(258,)\n",
      "<class 'mediapipe.python.solution_base.SolutionOutputs'>\n",
      "(258,)\n",
      "<class 'mediapipe.python.solution_base.SolutionOutputs'>\n",
      "(258,)\n",
      "<class 'mediapipe.python.solution_base.SolutionOutputs'>\n",
      "(258,)\n",
      "<class 'mediapipe.python.solution_base.SolutionOutputs'>\n",
      "(258,)\n",
      "<class 'mediapipe.python.solution_base.SolutionOutputs'>\n",
      "(258,)\n",
      "<class 'mediapipe.python.solution_base.SolutionOutputs'>\n",
      "(258,)\n",
      "<class 'mediapipe.python.solution_base.SolutionOutputs'>\n",
      "(258,)\n",
      "<class 'mediapipe.python.solution_base.SolutionOutputs'>\n",
      "(258,)\n",
      "<class 'mediapipe.python.solution_base.SolutionOutputs'>\n",
      "(258,)\n",
      "<class 'mediapipe.python.solution_base.SolutionOutputs'>\n",
      "(258,)\n",
      "<class 'mediapipe.python.solution_base.SolutionOutputs'>\n",
      "(258,)\n",
      "<class 'mediapipe.python.solution_base.SolutionOutputs'>\n",
      "(258,)\n",
      "<class 'mediapipe.python.solution_base.SolutionOutputs'>\n",
      "(258,)\n",
      "<class 'mediapipe.python.solution_base.SolutionOutputs'>\n",
      "(258,)\n",
      "<class 'mediapipe.python.solution_base.SolutionOutputs'>\n",
      "(258,)\n",
      "<class 'mediapipe.python.solution_base.SolutionOutputs'>\n",
      "(258,)\n",
      "1/1 [==============================] - 0s 20ms/step\n",
      "لا شئ\n",
      "<class 'mediapipe.python.solution_base.SolutionOutputs'>\n",
      "(258,)\n",
      "1/1 [==============================] - 0s 21ms/step\n",
      "لا شئ\n",
      "<class 'mediapipe.python.solution_base.SolutionOutputs'>\n",
      "(258,)\n",
      "1/1 [==============================] - 0s 20ms/step\n",
      "لا شئ\n",
      "<class 'mediapipe.python.solution_base.SolutionOutputs'>\n",
      "(258,)\n",
      "1/1 [==============================] - 0s 22ms/step\n",
      "لا شئ\n",
      "<class 'mediapipe.python.solution_base.SolutionOutputs'>\n",
      "(258,)\n",
      "1/1 [==============================] - 0s 20ms/step\n",
      "لا شئ\n",
      "<class 'mediapipe.python.solution_base.SolutionOutputs'>\n",
      "(258,)\n",
      "1/1 [==============================] - 0s 20ms/step\n",
      "لا شئ\n",
      "<class 'mediapipe.python.solution_base.SolutionOutputs'>\n",
      "(258,)\n",
      "1/1 [==============================] - 0s 20ms/step\n",
      "لا شئ\n",
      "<class 'mediapipe.python.solution_base.SolutionOutputs'>\n",
      "(258,)\n",
      "1/1 [==============================] - 0s 20ms/step\n",
      "لا شئ\n",
      "<class 'mediapipe.python.solution_base.SolutionOutputs'>\n",
      "(258,)\n",
      "1/1 [==============================] - 0s 20ms/step\n",
      "لا شئ\n",
      "<class 'mediapipe.python.solution_base.SolutionOutputs'>\n",
      "(258,)\n",
      "1/1 [==============================] - 0s 21ms/step\n",
      "لا شئ\n",
      "<class 'mediapipe.python.solution_base.SolutionOutputs'>\n",
      "(258,)\n",
      "1/1 [==============================] - 0s 21ms/step\n",
      "لا شئ\n",
      "<class 'mediapipe.python.solution_base.SolutionOutputs'>\n",
      "(258,)\n",
      "1/1 [==============================] - 0s 21ms/step\n",
      "لا شئ\n",
      "<class 'mediapipe.python.solution_base.SolutionOutputs'>\n",
      "(258,)\n",
      "1/1 [==============================] - 0s 21ms/step\n",
      "لا شئ\n",
      "<class 'mediapipe.python.solution_base.SolutionOutputs'>\n",
      "(258,)\n",
      "1/1 [==============================] - 0s 19ms/step\n",
      "لا شئ\n",
      "<class 'mediapipe.python.solution_base.SolutionOutputs'>\n",
      "(258,)\n",
      "1/1 [==============================] - 0s 20ms/step\n",
      "لا شئ\n",
      "<class 'mediapipe.python.solution_base.SolutionOutputs'>\n",
      "(258,)\n",
      "1/1 [==============================] - 0s 21ms/step\n",
      "لا شئ\n",
      "<class 'mediapipe.python.solution_base.SolutionOutputs'>\n",
      "(258,)\n",
      "1/1 [==============================] - 0s 22ms/step\n",
      "لا شئ\n",
      "<class 'mediapipe.python.solution_base.SolutionOutputs'>\n",
      "(258,)\n",
      "1/1 [==============================] - 0s 20ms/step\n",
      "لا شئ\n",
      "<class 'mediapipe.python.solution_base.SolutionOutputs'>\n",
      "(258,)\n",
      "1/1 [==============================] - 0s 22ms/step\n",
      "لا شئ\n",
      "<class 'mediapipe.python.solution_base.SolutionOutputs'>\n",
      "(258,)\n",
      "1/1 [==============================] - 0s 20ms/step\n",
      "لا شئ\n",
      "<class 'mediapipe.python.solution_base.SolutionOutputs'>\n",
      "(258,)\n",
      "1/1 [==============================] - 0s 21ms/step\n",
      "لا شئ\n",
      "<class 'mediapipe.python.solution_base.SolutionOutputs'>\n",
      "(258,)\n",
      "1/1 [==============================] - 0s 21ms/step\n",
      "لا شئ\n",
      "<class 'mediapipe.python.solution_base.SolutionOutputs'>\n",
      "(258,)\n",
      "1/1 [==============================] - 0s 19ms/step\n",
      "لا شئ\n",
      "<class 'mediapipe.python.solution_base.SolutionOutputs'>\n",
      "(258,)\n",
      "1/1 [==============================] - 0s 21ms/step\n",
      "لا شئ\n",
      "<class 'mediapipe.python.solution_base.SolutionOutputs'>\n",
      "(258,)\n",
      "1/1 [==============================] - 0s 19ms/step\n",
      "لا شئ\n",
      "<class 'mediapipe.python.solution_base.SolutionOutputs'>\n",
      "(258,)\n",
      "1/1 [==============================] - 0s 19ms/step\n",
      "لا شئ\n",
      "<class 'mediapipe.python.solution_base.SolutionOutputs'>\n",
      "(258,)\n",
      "1/1 [==============================] - 0s 19ms/step\n",
      "لا شئ\n",
      "<class 'mediapipe.python.solution_base.SolutionOutputs'>\n",
      "(258,)\n",
      "1/1 [==============================] - 0s 19ms/step\n",
      "لا شئ\n",
      "<class 'mediapipe.python.solution_base.SolutionOutputs'>\n",
      "(258,)\n",
      "1/1 [==============================] - 0s 21ms/step\n",
      "لا شئ\n",
      "<class 'mediapipe.python.solution_base.SolutionOutputs'>\n",
      "(258,)\n",
      "1/1 [==============================] - 0s 20ms/step\n",
      "لا شئ\n",
      "<class 'mediapipe.python.solution_base.SolutionOutputs'>\n",
      "(258,)\n",
      "1/1 [==============================] - 0s 19ms/step\n",
      "لا شئ\n",
      "<class 'mediapipe.python.solution_base.SolutionOutputs'>\n",
      "(258,)\n",
      "1/1 [==============================] - 0s 21ms/step\n",
      "لا شئ\n",
      "<class 'mediapipe.python.solution_base.SolutionOutputs'>\n",
      "(258,)\n",
      "1/1 [==============================] - 0s 21ms/step\n",
      "لا شئ\n",
      "<class 'mediapipe.python.solution_base.SolutionOutputs'>\n",
      "(258,)\n",
      "1/1 [==============================] - 0s 20ms/step\n",
      "لا شئ\n",
      "<class 'mediapipe.python.solution_base.SolutionOutputs'>\n",
      "(258,)\n",
      "1/1 [==============================] - 0s 21ms/step\n",
      "لا شئ\n",
      "<class 'mediapipe.python.solution_base.SolutionOutputs'>\n",
      "(258,)\n",
      "1/1 [==============================] - 0s 23ms/step\n",
      "لا شئ\n",
      "<class 'mediapipe.python.solution_base.SolutionOutputs'>\n",
      "(258,)\n",
      "1/1 [==============================] - 0s 21ms/step\n",
      "لا شئ\n",
      "<class 'mediapipe.python.solution_base.SolutionOutputs'>\n",
      "(258,)\n",
      "1/1 [==============================] - 0s 19ms/step\n",
      "لا شئ\n",
      "<class 'mediapipe.python.solution_base.SolutionOutputs'>\n",
      "(258,)\n",
      "1/1 [==============================] - 0s 21ms/step\n",
      "لا شئ\n",
      "<class 'mediapipe.python.solution_base.SolutionOutputs'>\n",
      "(258,)\n",
      "1/1 [==============================] - 0s 21ms/step\n",
      "لا شئ\n",
      "<class 'mediapipe.python.solution_base.SolutionOutputs'>\n",
      "(258,)\n",
      "1/1 [==============================] - 0s 21ms/step\n",
      "لا شئ\n",
      "<class 'mediapipe.python.solution_base.SolutionOutputs'>\n",
      "(258,)\n",
      "1/1 [==============================] - 0s 24ms/step\n",
      "لا شئ\n",
      "<class 'mediapipe.python.solution_base.SolutionOutputs'>\n",
      "(258,)\n",
      "1/1 [==============================] - 0s 21ms/step\n",
      "لا شئ\n",
      "<class 'mediapipe.python.solution_base.SolutionOutputs'>\n",
      "(258,)\n",
      "1/1 [==============================] - 0s 21ms/step\n",
      "لا شئ\n",
      "<class 'mediapipe.python.solution_base.SolutionOutputs'>\n",
      "(258,)\n",
      "1/1 [==============================] - 0s 21ms/step\n",
      "عمرى\n",
      "<class 'mediapipe.python.solution_base.SolutionOutputs'>\n",
      "(258,)\n",
      "1/1 [==============================] - 0s 21ms/step\n",
      "عمرى\n",
      "<class 'mediapipe.python.solution_base.SolutionOutputs'>\n",
      "(258,)\n",
      "1/1 [==============================] - 0s 19ms/step\n",
      "عمرى\n",
      "<class 'mediapipe.python.solution_base.SolutionOutputs'>\n",
      "(258,)\n",
      "1/1 [==============================] - 0s 21ms/step\n",
      "عمرى\n",
      "<class 'mediapipe.python.solution_base.SolutionOutputs'>\n",
      "(258,)\n",
      "1/1 [==============================] - 0s 20ms/step\n",
      "لا شئ\n",
      "<class 'mediapipe.python.solution_base.SolutionOutputs'>\n",
      "(258,)\n",
      "1/1 [==============================] - 0s 22ms/step\n",
      "لا شئ\n",
      "<class 'mediapipe.python.solution_base.SolutionOutputs'>\n",
      "(258,)\n",
      "1/1 [==============================] - 0s 22ms/step\n",
      "لا شئ\n",
      "<class 'mediapipe.python.solution_base.SolutionOutputs'>\n",
      "(258,)\n",
      "1/1 [==============================] - 0s 22ms/step\n",
      "لا شئ\n",
      "<class 'mediapipe.python.solution_base.SolutionOutputs'>\n",
      "(258,)\n",
      "1/1 [==============================] - 0s 22ms/step\n",
      "لا شئ\n",
      "<class 'mediapipe.python.solution_base.SolutionOutputs'>\n",
      "(258,)\n",
      "1/1 [==============================] - 0s 22ms/step\n",
      "لا شئ\n",
      "<class 'mediapipe.python.solution_base.SolutionOutputs'>\n",
      "(258,)\n",
      "1/1 [==============================] - 0s 24ms/step\n",
      "لا شئ\n",
      "<class 'mediapipe.python.solution_base.SolutionOutputs'>\n",
      "(258,)\n",
      "1/1 [==============================] - 0s 24ms/step\n",
      "لا شئ\n",
      "<class 'mediapipe.python.solution_base.SolutionOutputs'>\n",
      "(258,)\n",
      "1/1 [==============================] - 0s 22ms/step\n",
      "شكرا\n",
      "<class 'mediapipe.python.solution_base.SolutionOutputs'>\n",
      "(258,)\n",
      "1/1 [==============================] - 0s 21ms/step\n",
      "شكرا\n",
      "<class 'mediapipe.python.solution_base.SolutionOutputs'>\n",
      "(258,)\n",
      "1/1 [==============================] - 0s 18ms/step\n",
      "شكرا\n",
      "<class 'mediapipe.python.solution_base.SolutionOutputs'>\n",
      "(258,)\n",
      "1/1 [==============================] - 0s 20ms/step\n",
      "شكرا\n",
      "<class 'mediapipe.python.solution_base.SolutionOutputs'>\n",
      "(258,)\n",
      "1/1 [==============================] - 0s 20ms/step\n",
      "شكرا\n",
      "<class 'mediapipe.python.solution_base.SolutionOutputs'>\n",
      "(258,)\n",
      "1/1 [==============================] - 0s 21ms/step\n",
      "لا شئ\n",
      "<class 'mediapipe.python.solution_base.SolutionOutputs'>\n",
      "(258,)\n",
      "1/1 [==============================] - 0s 20ms/step\n",
      "لا شئ\n",
      "<class 'mediapipe.python.solution_base.SolutionOutputs'>\n",
      "(258,)\n",
      "1/1 [==============================] - 0s 20ms/step\n",
      "لا شئ\n",
      "<class 'mediapipe.python.solution_base.SolutionOutputs'>\n",
      "(258,)\n",
      "1/1 [==============================] - 0s 23ms/step\n",
      "لا شئ\n",
      "<class 'mediapipe.python.solution_base.SolutionOutputs'>\n",
      "(258,)\n",
      "1/1 [==============================] - 0s 20ms/step\n",
      "لا شئ\n",
      "<class 'mediapipe.python.solution_base.SolutionOutputs'>\n",
      "(258,)\n",
      "1/1 [==============================] - 0s 21ms/step\n",
      "لا شئ\n",
      "<class 'mediapipe.python.solution_base.SolutionOutputs'>\n",
      "(258,)\n",
      "1/1 [==============================] - 0s 20ms/step\n",
      "لا شئ\n",
      "<class 'mediapipe.python.solution_base.SolutionOutputs'>\n",
      "(258,)\n",
      "1/1 [==============================] - 0s 19ms/step\n",
      "لا شئ\n",
      "<class 'mediapipe.python.solution_base.SolutionOutputs'>\n",
      "(258,)\n",
      "1/1 [==============================] - 0s 20ms/step\n",
      "لا شئ\n",
      "<class 'mediapipe.python.solution_base.SolutionOutputs'>\n",
      "(258,)\n",
      "1/1 [==============================] - 0s 20ms/step\n",
      "لا شئ\n",
      "<class 'mediapipe.python.solution_base.SolutionOutputs'>\n",
      "(258,)\n",
      "1/1 [==============================] - 0s 22ms/step\n",
      "لا شئ\n",
      "<class 'mediapipe.python.solution_base.SolutionOutputs'>\n",
      "(258,)\n",
      "1/1 [==============================] - 0s 20ms/step\n",
      "لا شئ\n",
      "<class 'mediapipe.python.solution_base.SolutionOutputs'>\n",
      "(258,)\n",
      "1/1 [==============================] - 0s 19ms/step\n",
      "لا شئ\n",
      "<class 'mediapipe.python.solution_base.SolutionOutputs'>\n",
      "(258,)\n",
      "1/1 [==============================] - 0s 19ms/step\n",
      "لا شئ\n",
      "<class 'mediapipe.python.solution_base.SolutionOutputs'>\n",
      "(258,)\n",
      "1/1 [==============================] - 0s 20ms/step\n",
      "لا شئ\n",
      "<class 'mediapipe.python.solution_base.SolutionOutputs'>\n",
      "(258,)\n",
      "1/1 [==============================] - 0s 21ms/step\n",
      "لا شئ\n",
      "<class 'mediapipe.python.solution_base.SolutionOutputs'>\n",
      "(258,)\n",
      "1/1 [==============================] - 0s 21ms/step\n",
      "لا شئ\n",
      "<class 'mediapipe.python.solution_base.SolutionOutputs'>\n",
      "(258,)\n",
      "1/1 [==============================] - 0s 21ms/step\n",
      "لا شئ\n",
      "<class 'mediapipe.python.solution_base.SolutionOutputs'>\n",
      "(258,)\n",
      "1/1 [==============================] - 0s 22ms/step\n",
      "لا شئ\n",
      "<class 'mediapipe.python.solution_base.SolutionOutputs'>\n",
      "(258,)\n",
      "1/1 [==============================] - 0s 19ms/step\n",
      "لا شئ\n",
      "<class 'mediapipe.python.solution_base.SolutionOutputs'>\n",
      "(258,)\n",
      "1/1 [==============================] - 0s 21ms/step\n",
      "لا شئ\n",
      "<class 'mediapipe.python.solution_base.SolutionOutputs'>\n",
      "(258,)\n",
      "1/1 [==============================] - 0s 24ms/step\n",
      "لا شئ\n",
      "<class 'mediapipe.python.solution_base.SolutionOutputs'>\n",
      "(258,)\n",
      "1/1 [==============================] - 0s 22ms/step\n",
      "لا شئ\n",
      "<class 'mediapipe.python.solution_base.SolutionOutputs'>\n",
      "(258,)\n",
      "1/1 [==============================] - 0s 20ms/step\n",
      "لا شئ\n",
      "<class 'mediapipe.python.solution_base.SolutionOutputs'>\n",
      "(258,)\n",
      "1/1 [==============================] - 0s 20ms/step\n",
      "لا شئ\n",
      "<class 'mediapipe.python.solution_base.SolutionOutputs'>\n",
      "(258,)\n",
      "1/1 [==============================] - 0s 19ms/step\n",
      "لا شئ\n",
      "<class 'mediapipe.python.solution_base.SolutionOutputs'>\n",
      "(258,)\n",
      "1/1 [==============================] - 0s 21ms/step\n",
      "لا شئ\n",
      "<class 'mediapipe.python.solution_base.SolutionOutputs'>\n",
      "(258,)\n",
      "1/1 [==============================] - 0s 20ms/step\n",
      "لا شئ\n",
      "<class 'mediapipe.python.solution_base.SolutionOutputs'>\n",
      "(258,)\n",
      "1/1 [==============================] - 0s 20ms/step\n",
      "لا شئ\n",
      "<class 'mediapipe.python.solution_base.SolutionOutputs'>\n",
      "(258,)\n",
      "1/1 [==============================] - 0s 20ms/step\n",
      "لا شئ\n",
      "<class 'mediapipe.python.solution_base.SolutionOutputs'>\n",
      "(258,)\n",
      "1/1 [==============================] - 0s 20ms/step\n",
      "لا شئ\n",
      "<class 'mediapipe.python.solution_base.SolutionOutputs'>\n",
      "(258,)\n",
      "1/1 [==============================] - 0s 21ms/step\n",
      "لا شئ\n",
      "<class 'mediapipe.python.solution_base.SolutionOutputs'>\n",
      "(258,)\n",
      "1/1 [==============================] - 0s 20ms/step\n",
      "لا شئ\n",
      "<class 'mediapipe.python.solution_base.SolutionOutputs'>\n",
      "(258,)\n",
      "1/1 [==============================] - 0s 21ms/step\n",
      "لا شئ\n",
      "<class 'mediapipe.python.solution_base.SolutionOutputs'>\n",
      "(258,)\n",
      "1/1 [==============================] - 0s 20ms/step\n",
      "لا شئ\n",
      "<class 'mediapipe.python.solution_base.SolutionOutputs'>\n",
      "(258,)\n",
      "1/1 [==============================] - 0s 21ms/step\n",
      "لا شئ\n",
      "<class 'mediapipe.python.solution_base.SolutionOutputs'>\n",
      "(258,)\n",
      "1/1 [==============================] - 0s 20ms/step\n",
      "لا شئ\n",
      "<class 'mediapipe.python.solution_base.SolutionOutputs'>\n",
      "(258,)\n",
      "1/1 [==============================] - 0s 20ms/step\n",
      "لا شئ\n",
      "<class 'mediapipe.python.solution_base.SolutionOutputs'>\n",
      "(258,)\n",
      "1/1 [==============================] - 0s 22ms/step\n",
      "لا شئ\n",
      "<class 'mediapipe.python.solution_base.SolutionOutputs'>\n",
      "(258,)\n",
      "1/1 [==============================] - 0s 19ms/step\n",
      "لا شئ\n",
      "<class 'mediapipe.python.solution_base.SolutionOutputs'>\n",
      "(258,)\n",
      "1/1 [==============================] - 0s 20ms/step\n",
      "لا شئ\n",
      "<class 'mediapipe.python.solution_base.SolutionOutputs'>\n",
      "(258,)\n",
      "1/1 [==============================] - 0s 21ms/step\n",
      "لا شئ\n",
      "<class 'mediapipe.python.solution_base.SolutionOutputs'>\n",
      "(258,)\n",
      "1/1 [==============================] - 0s 22ms/step\n",
      "لا شئ\n",
      "<class 'mediapipe.python.solution_base.SolutionOutputs'>\n",
      "(258,)\n",
      "1/1 [==============================] - 0s 21ms/step\n",
      "لا شئ\n",
      "<class 'mediapipe.python.solution_base.SolutionOutputs'>\n",
      "(258,)\n",
      "1/1 [==============================] - 0s 20ms/step\n",
      "لا شئ\n",
      "<class 'mediapipe.python.solution_base.SolutionOutputs'>\n",
      "(258,)\n",
      "1/1 [==============================] - 0s 20ms/step\n",
      "لا شئ\n",
      "<class 'mediapipe.python.solution_base.SolutionOutputs'>\n",
      "(258,)\n",
      "1/1 [==============================] - 0s 20ms/step\n",
      "لا شئ\n",
      "<class 'mediapipe.python.solution_base.SolutionOutputs'>\n",
      "(258,)\n",
      "1/1 [==============================] - 0s 20ms/step\n",
      "لا شئ\n",
      "<class 'mediapipe.python.solution_base.SolutionOutputs'>\n",
      "(258,)\n",
      "1/1 [==============================] - 0s 21ms/step\n",
      "لا شئ\n",
      "<class 'mediapipe.python.solution_base.SolutionOutputs'>\n",
      "(258,)\n",
      "1/1 [==============================] - 0s 21ms/step\n",
      "لا شئ\n",
      "<class 'mediapipe.python.solution_base.SolutionOutputs'>\n",
      "(258,)\n",
      "1/1 [==============================] - 0s 21ms/step\n",
      "لا شئ\n",
      "<class 'mediapipe.python.solution_base.SolutionOutputs'>\n",
      "(258,)\n",
      "1/1 [==============================] - 0s 22ms/step\n",
      "لا شئ\n",
      "<class 'mediapipe.python.solution_base.SolutionOutputs'>\n",
      "(258,)\n",
      "1/1 [==============================] - 0s 20ms/step\n",
      "لا شئ\n",
      "<class 'mediapipe.python.solution_base.SolutionOutputs'>\n",
      "(258,)\n",
      "1/1 [==============================] - 0s 21ms/step\n",
      "لا شئ\n",
      "<class 'mediapipe.python.solution_base.SolutionOutputs'>\n",
      "(258,)\n",
      "1/1 [==============================] - 0s 21ms/step\n",
      "لا شئ\n",
      "<class 'mediapipe.python.solution_base.SolutionOutputs'>\n",
      "(258,)\n",
      "1/1 [==============================] - 0s 22ms/step\n",
      "لا شئ\n",
      "<class 'mediapipe.python.solution_base.SolutionOutputs'>\n",
      "(258,)\n",
      "1/1 [==============================] - 0s 19ms/step\n",
      "لا شئ\n",
      "<class 'mediapipe.python.solution_base.SolutionOutputs'>\n",
      "(258,)\n",
      "1/1 [==============================] - 0s 20ms/step\n",
      "لا شئ\n",
      "<class 'mediapipe.python.solution_base.SolutionOutputs'>\n",
      "(258,)\n",
      "1/1 [==============================] - 0s 22ms/step\n",
      "لا شئ\n",
      "<class 'mediapipe.python.solution_base.SolutionOutputs'>\n",
      "(258,)\n",
      "1/1 [==============================] - 0s 21ms/step\n",
      "لا شئ\n",
      "<class 'mediapipe.python.solution_base.SolutionOutputs'>\n",
      "(258,)\n",
      "1/1 [==============================] - 0s 20ms/step\n",
      "لا شئ\n",
      "<class 'mediapipe.python.solution_base.SolutionOutputs'>\n",
      "(258,)\n",
      "1/1 [==============================] - 0s 22ms/step\n",
      "لا شئ\n",
      "<class 'mediapipe.python.solution_base.SolutionOutputs'>\n",
      "(258,)\n",
      "1/1 [==============================] - 0s 22ms/step\n",
      "لا شئ\n",
      "<class 'mediapipe.python.solution_base.SolutionOutputs'>\n",
      "(258,)\n",
      "1/1 [==============================] - 0s 21ms/step\n",
      "لا شئ\n",
      "<class 'mediapipe.python.solution_base.SolutionOutputs'>\n",
      "(258,)\n",
      "1/1 [==============================] - 0s 20ms/step\n",
      "لا شئ\n",
      "<class 'mediapipe.python.solution_base.SolutionOutputs'>\n",
      "(258,)\n",
      "1/1 [==============================] - 0s 20ms/step\n",
      "لا شئ\n",
      "<class 'mediapipe.python.solution_base.SolutionOutputs'>\n",
      "(258,)\n",
      "1/1 [==============================] - 0s 20ms/step\n",
      "لا شئ\n",
      "<class 'mediapipe.python.solution_base.SolutionOutputs'>\n",
      "(258,)\n",
      "1/1 [==============================] - 0s 20ms/step\n",
      "لا شئ\n",
      "<class 'mediapipe.python.solution_base.SolutionOutputs'>\n",
      "(258,)\n",
      "1/1 [==============================] - 0s 19ms/step\n",
      "لا شئ\n",
      "<class 'mediapipe.python.solution_base.SolutionOutputs'>\n",
      "(258,)\n",
      "1/1 [==============================] - 0s 20ms/step\n",
      "لا شئ\n",
      "<class 'mediapipe.python.solution_base.SolutionOutputs'>\n",
      "(258,)\n",
      "1/1 [==============================] - 0s 20ms/step\n",
      "لا شئ\n",
      "<class 'mediapipe.python.solution_base.SolutionOutputs'>\n",
      "(258,)\n",
      "1/1 [==============================] - 0s 21ms/step\n",
      "لا شئ\n",
      "<class 'mediapipe.python.solution_base.SolutionOutputs'>\n",
      "(258,)\n",
      "1/1 [==============================] - 0s 19ms/step\n",
      "لا شئ\n",
      "<class 'mediapipe.python.solution_base.SolutionOutputs'>\n",
      "(258,)\n",
      "1/1 [==============================] - 0s 22ms/step\n",
      "لا شئ\n",
      "<class 'mediapipe.python.solution_base.SolutionOutputs'>\n",
      "(258,)\n",
      "1/1 [==============================] - 0s 24ms/step\n",
      "لا شئ\n",
      "<class 'mediapipe.python.solution_base.SolutionOutputs'>\n",
      "(258,)\n",
      "1/1 [==============================] - 0s 21ms/step\n",
      "لا شئ\n",
      "<class 'mediapipe.python.solution_base.SolutionOutputs'>\n",
      "(258,)\n",
      "1/1 [==============================] - 0s 21ms/step\n",
      "لا شئ\n",
      "<class 'mediapipe.python.solution_base.SolutionOutputs'>\n",
      "(258,)\n",
      "1/1 [==============================] - 0s 19ms/step\n",
      "لا شئ\n",
      "<class 'mediapipe.python.solution_base.SolutionOutputs'>\n",
      "(258,)\n",
      "1/1 [==============================] - 0s 21ms/step\n",
      "لا شئ\n",
      "<class 'mediapipe.python.solution_base.SolutionOutputs'>\n",
      "(258,)\n",
      "1/1 [==============================] - 0s 20ms/step\n",
      "لا شئ\n",
      "<class 'mediapipe.python.solution_base.SolutionOutputs'>\n",
      "(258,)\n",
      "1/1 [==============================] - 0s 21ms/step\n",
      "لا شئ\n",
      "<class 'mediapipe.python.solution_base.SolutionOutputs'>\n",
      "(258,)\n",
      "1/1 [==============================] - 0s 19ms/step\n",
      "لا شئ\n"
     ]
    }
   ],
   "source": [
    "# 1. New detection variables\n",
    "sequence = []\n",
    "sentence = []\n",
    "predictions = []\n",
    "threshold = 0.5\n",
    "prediction=0\n",
    "cap = cv2.VideoCapture(0)\n",
    "# Set mediapipe model \n",
    "with mp_holistic.Holistic(min_detection_confidence=0.5, min_tracking_confidence=0.5) as holistic:\n",
    "    while cap.isOpened():\n",
    "\n",
    "        # Read feed\n",
    "        ret, frame = cap.read()\n",
    "\n",
    "        # Make detections\n",
    "        image, results = mediapipe_detection(frame, holistic)\n",
    "        print(results)\n",
    "        \n",
    "        # Draw landmarks\n",
    "        draw_styled_landmarks(image, results)\n",
    "        \n",
    "        # 2. Prediction logic\n",
    "        keypoints = extract_keypoints(results)\n",
    "        print(keypoints.shape)\n",
    "        sequence.append(keypoints)\n",
    "        sequence = sequence[-20:]\n",
    "        \n",
    "        if len(sequence) == 20:\n",
    "            res = model.predict(np.expand_dims(sequence, axis=0))[0]\n",
    "            prediction=actions[np.argmax(res)]\n",
    "            print(prediction)\n",
    "            predictions.append(np.argmax(res))\n",
    "            \n",
    "\n",
    "            # Specify the font .ttf file\n",
    "            fontpath = \"C:\\\\Users\\\\Yehia\\\\Arabic-Sign-Language-Detection\\\\Amiri-BoldItalic.ttf\"\n",
    "\n",
    "            # Set the font size and color\n",
    "            font = ImageFont.truetype(fontpath, 32)\n",
    "            color = (255, 255, 255)  # white color\n",
    "\n",
    "            # Convert the image to a PIL Image\n",
    "            img_pil = Image.fromarray(image)\n",
    "\n",
    "            # Create a draw object\n",
    "            draw = ImageDraw.Draw(img_pil)\n",
    "\n",
    "            # Position where you want to put the text\n",
    "            position = (40, 40)\n",
    "\n",
    "            \n",
    "            reshaped_text = arabic_reshaper.reshape(prediction)\n",
    "            bidi_text = get_display(reshaped_text)\n",
    "\n",
    "                # Calculate the position for each word\n",
    "            x = position[0]\n",
    "            y = position[1]  # Increment y-coordinate for each word\n",
    "\n",
    "                # Draw the text on the image\n",
    "            draw.text((x, y), bidi_text, font=font, fill=color)\n",
    "            # Convert back to OpenCV image and save/show\n",
    "            image = np.array(img_pil)\n",
    "           \n",
    "\n",
    "        # Show to screen\n",
    "        cv2.imshow('OpenCV Feed', image)\n",
    "    \n",
    "\n",
    "        # Break gracefully\n",
    "        if cv2.waitKey(10) & 0xFF == ord('q'):\n",
    "            break\n",
    "    cap.release()\n",
    "    cv2.destroyAllWindows()"
   ]
  },
  {
   "cell_type": "code",
   "execution_count": null,
   "metadata": {},
   "outputs": [],
   "source": []
  }
 ],
 "metadata": {
  "accelerator": "GPU",
  "colab": {
   "collapsed_sections": [
    "_dzyBHmfmJAG",
    "RsGscGOZS76r",
    "ShAjvSdVVpGj",
    "ElHhSlAl38qI",
    "ey89nvfMW70I",
    "JkEVmG9Q8wD-"
   ],
   "name": "SIGNXv3.3_Modeling.ipynb",
   "provenance": []
  },
  "kernelspec": {
   "display_name": "Python 3 (ipykernel)",
   "language": "python",
   "name": "python3"
  },
  "language_info": {
   "codemirror_mode": {
    "name": "ipython",
    "version": 3
   },
   "file_extension": ".py",
   "mimetype": "text/x-python",
   "name": "python",
   "nbconvert_exporter": "python",
   "pygments_lexer": "ipython3",
   "version": "3.10.9"
  }
 },
 "nbformat": 4,
 "nbformat_minor": 4
}
